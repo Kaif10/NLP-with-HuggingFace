{
  "nbformat": 4,
  "nbformat_minor": 0,
  "metadata": {
    "colab": {
      "name": "Text-generation with GPT2.ipynb",
      "provenance": [],
      "collapsed_sections": [],
      "authorship_tag": "ABX9TyMzCMeK8cOPTqy/8l5SPzIA",
      "include_colab_link": true
    },
    "kernelspec": {
      "display_name": "Python 3",
      "name": "python3"
    },
    "accelerator": "GPU",
    "widgets": {
      "application/vnd.jupyter.widget-state+json": {
        "e5567a4c0604438c9689698d31f214a8": {
          "model_module": "@jupyter-widgets/controls",
          "model_name": "HBoxModel",
          "state": {
            "_view_name": "HBoxView",
            "_dom_classes": [],
            "_model_name": "HBoxModel",
            "_view_module": "@jupyter-widgets/controls",
            "_model_module_version": "1.5.0",
            "_view_count": null,
            "_view_module_version": "1.5.0",
            "box_style": "",
            "layout": "IPY_MODEL_20807260dae047c49b8bb15efb6445df",
            "_model_module": "@jupyter-widgets/controls",
            "children": [
              "IPY_MODEL_1be059d0a99645dcb6f1459fe5becfd5",
              "IPY_MODEL_d25e147209ce497ab8ca77e4b2cdf880"
            ]
          }
        },
        "20807260dae047c49b8bb15efb6445df": {
          "model_module": "@jupyter-widgets/base",
          "model_name": "LayoutModel",
          "state": {
            "_view_name": "LayoutView",
            "grid_template_rows": null,
            "right": null,
            "justify_content": null,
            "_view_module": "@jupyter-widgets/base",
            "overflow": null,
            "_model_module_version": "1.2.0",
            "_view_count": null,
            "flex_flow": null,
            "width": null,
            "min_width": null,
            "border": null,
            "align_items": null,
            "bottom": null,
            "_model_module": "@jupyter-widgets/base",
            "top": null,
            "grid_column": null,
            "overflow_y": null,
            "overflow_x": null,
            "grid_auto_flow": null,
            "grid_area": null,
            "grid_template_columns": null,
            "flex": null,
            "_model_name": "LayoutModel",
            "justify_items": null,
            "grid_row": null,
            "max_height": null,
            "align_content": null,
            "visibility": null,
            "align_self": null,
            "height": null,
            "min_height": null,
            "padding": null,
            "grid_auto_rows": null,
            "grid_gap": null,
            "max_width": null,
            "order": null,
            "_view_module_version": "1.2.0",
            "grid_template_areas": null,
            "object_position": null,
            "object_fit": null,
            "grid_auto_columns": null,
            "margin": null,
            "display": null,
            "left": null
          }
        },
        "1be059d0a99645dcb6f1459fe5becfd5": {
          "model_module": "@jupyter-widgets/controls",
          "model_name": "FloatProgressModel",
          "state": {
            "_view_name": "ProgressView",
            "style": "IPY_MODEL_90e5256af1fc4f7e89d0f53efb3ad57e",
            "_dom_classes": [],
            "description": "Downloading: 100%",
            "_model_name": "FloatProgressModel",
            "bar_style": "success",
            "max": 1042301,
            "_view_module": "@jupyter-widgets/controls",
            "_model_module_version": "1.5.0",
            "value": 1042301,
            "_view_count": null,
            "_view_module_version": "1.5.0",
            "orientation": "horizontal",
            "min": 0,
            "description_tooltip": null,
            "_model_module": "@jupyter-widgets/controls",
            "layout": "IPY_MODEL_5aae4abc8d4543d9bf70150614b71995"
          }
        },
        "d25e147209ce497ab8ca77e4b2cdf880": {
          "model_module": "@jupyter-widgets/controls",
          "model_name": "HTMLModel",
          "state": {
            "_view_name": "HTMLView",
            "style": "IPY_MODEL_111159659c0e45a5bea7b23cf3c6a62c",
            "_dom_classes": [],
            "description": "",
            "_model_name": "HTMLModel",
            "placeholder": "​",
            "_view_module": "@jupyter-widgets/controls",
            "_model_module_version": "1.5.0",
            "value": " 1.04M/1.04M [00:00&lt;00:00, 5.16MB/s]",
            "_view_count": null,
            "_view_module_version": "1.5.0",
            "description_tooltip": null,
            "_model_module": "@jupyter-widgets/controls",
            "layout": "IPY_MODEL_6fd83bfbed624c168fc05fcfbde76f41"
          }
        },
        "90e5256af1fc4f7e89d0f53efb3ad57e": {
          "model_module": "@jupyter-widgets/controls",
          "model_name": "ProgressStyleModel",
          "state": {
            "_view_name": "StyleView",
            "_model_name": "ProgressStyleModel",
            "description_width": "initial",
            "_view_module": "@jupyter-widgets/base",
            "_model_module_version": "1.5.0",
            "_view_count": null,
            "_view_module_version": "1.2.0",
            "bar_color": null,
            "_model_module": "@jupyter-widgets/controls"
          }
        },
        "5aae4abc8d4543d9bf70150614b71995": {
          "model_module": "@jupyter-widgets/base",
          "model_name": "LayoutModel",
          "state": {
            "_view_name": "LayoutView",
            "grid_template_rows": null,
            "right": null,
            "justify_content": null,
            "_view_module": "@jupyter-widgets/base",
            "overflow": null,
            "_model_module_version": "1.2.0",
            "_view_count": null,
            "flex_flow": null,
            "width": null,
            "min_width": null,
            "border": null,
            "align_items": null,
            "bottom": null,
            "_model_module": "@jupyter-widgets/base",
            "top": null,
            "grid_column": null,
            "overflow_y": null,
            "overflow_x": null,
            "grid_auto_flow": null,
            "grid_area": null,
            "grid_template_columns": null,
            "flex": null,
            "_model_name": "LayoutModel",
            "justify_items": null,
            "grid_row": null,
            "max_height": null,
            "align_content": null,
            "visibility": null,
            "align_self": null,
            "height": null,
            "min_height": null,
            "padding": null,
            "grid_auto_rows": null,
            "grid_gap": null,
            "max_width": null,
            "order": null,
            "_view_module_version": "1.2.0",
            "grid_template_areas": null,
            "object_position": null,
            "object_fit": null,
            "grid_auto_columns": null,
            "margin": null,
            "display": null,
            "left": null
          }
        },
        "111159659c0e45a5bea7b23cf3c6a62c": {
          "model_module": "@jupyter-widgets/controls",
          "model_name": "DescriptionStyleModel",
          "state": {
            "_view_name": "StyleView",
            "_model_name": "DescriptionStyleModel",
            "description_width": "",
            "_view_module": "@jupyter-widgets/base",
            "_model_module_version": "1.5.0",
            "_view_count": null,
            "_view_module_version": "1.2.0",
            "_model_module": "@jupyter-widgets/controls"
          }
        },
        "6fd83bfbed624c168fc05fcfbde76f41": {
          "model_module": "@jupyter-widgets/base",
          "model_name": "LayoutModel",
          "state": {
            "_view_name": "LayoutView",
            "grid_template_rows": null,
            "right": null,
            "justify_content": null,
            "_view_module": "@jupyter-widgets/base",
            "overflow": null,
            "_model_module_version": "1.2.0",
            "_view_count": null,
            "flex_flow": null,
            "width": null,
            "min_width": null,
            "border": null,
            "align_items": null,
            "bottom": null,
            "_model_module": "@jupyter-widgets/base",
            "top": null,
            "grid_column": null,
            "overflow_y": null,
            "overflow_x": null,
            "grid_auto_flow": null,
            "grid_area": null,
            "grid_template_columns": null,
            "flex": null,
            "_model_name": "LayoutModel",
            "justify_items": null,
            "grid_row": null,
            "max_height": null,
            "align_content": null,
            "visibility": null,
            "align_self": null,
            "height": null,
            "min_height": null,
            "padding": null,
            "grid_auto_rows": null,
            "grid_gap": null,
            "max_width": null,
            "order": null,
            "_view_module_version": "1.2.0",
            "grid_template_areas": null,
            "object_position": null,
            "object_fit": null,
            "grid_auto_columns": null,
            "margin": null,
            "display": null,
            "left": null
          }
        },
        "96f366b1294f4a32a0f43bf40dea9b6e": {
          "model_module": "@jupyter-widgets/controls",
          "model_name": "HBoxModel",
          "state": {
            "_view_name": "HBoxView",
            "_dom_classes": [],
            "_model_name": "HBoxModel",
            "_view_module": "@jupyter-widgets/controls",
            "_model_module_version": "1.5.0",
            "_view_count": null,
            "_view_module_version": "1.5.0",
            "box_style": "",
            "layout": "IPY_MODEL_de6f92bf1a2444aea8a3073be8aad91e",
            "_model_module": "@jupyter-widgets/controls",
            "children": [
              "IPY_MODEL_d946d84b8a36423ab8d0efd41289129c",
              "IPY_MODEL_ab8a91fb8a5242f48cfe47bfb820d4c1"
            ]
          }
        },
        "de6f92bf1a2444aea8a3073be8aad91e": {
          "model_module": "@jupyter-widgets/base",
          "model_name": "LayoutModel",
          "state": {
            "_view_name": "LayoutView",
            "grid_template_rows": null,
            "right": null,
            "justify_content": null,
            "_view_module": "@jupyter-widgets/base",
            "overflow": null,
            "_model_module_version": "1.2.0",
            "_view_count": null,
            "flex_flow": null,
            "width": null,
            "min_width": null,
            "border": null,
            "align_items": null,
            "bottom": null,
            "_model_module": "@jupyter-widgets/base",
            "top": null,
            "grid_column": null,
            "overflow_y": null,
            "overflow_x": null,
            "grid_auto_flow": null,
            "grid_area": null,
            "grid_template_columns": null,
            "flex": null,
            "_model_name": "LayoutModel",
            "justify_items": null,
            "grid_row": null,
            "max_height": null,
            "align_content": null,
            "visibility": null,
            "align_self": null,
            "height": null,
            "min_height": null,
            "padding": null,
            "grid_auto_rows": null,
            "grid_gap": null,
            "max_width": null,
            "order": null,
            "_view_module_version": "1.2.0",
            "grid_template_areas": null,
            "object_position": null,
            "object_fit": null,
            "grid_auto_columns": null,
            "margin": null,
            "display": null,
            "left": null
          }
        },
        "d946d84b8a36423ab8d0efd41289129c": {
          "model_module": "@jupyter-widgets/controls",
          "model_name": "FloatProgressModel",
          "state": {
            "_view_name": "ProgressView",
            "style": "IPY_MODEL_ba744464465540318e32bf3cd6e1a6ee",
            "_dom_classes": [],
            "description": "Downloading: 100%",
            "_model_name": "FloatProgressModel",
            "bar_style": "success",
            "max": 456318,
            "_view_module": "@jupyter-widgets/controls",
            "_model_module_version": "1.5.0",
            "value": 456318,
            "_view_count": null,
            "_view_module_version": "1.5.0",
            "orientation": "horizontal",
            "min": 0,
            "description_tooltip": null,
            "_model_module": "@jupyter-widgets/controls",
            "layout": "IPY_MODEL_52572563107b4d4e9b1a5a3c559b4bc8"
          }
        },
        "ab8a91fb8a5242f48cfe47bfb820d4c1": {
          "model_module": "@jupyter-widgets/controls",
          "model_name": "HTMLModel",
          "state": {
            "_view_name": "HTMLView",
            "style": "IPY_MODEL_b011f8ef67c2427d84bc6d68390a92a6",
            "_dom_classes": [],
            "description": "",
            "_model_name": "HTMLModel",
            "placeholder": "​",
            "_view_module": "@jupyter-widgets/controls",
            "_model_module_version": "1.5.0",
            "value": " 456k/456k [00:00&lt;00:00, 4.76MB/s]",
            "_view_count": null,
            "_view_module_version": "1.5.0",
            "description_tooltip": null,
            "_model_module": "@jupyter-widgets/controls",
            "layout": "IPY_MODEL_99057befc98146b8ba36d2c39116ca5b"
          }
        },
        "ba744464465540318e32bf3cd6e1a6ee": {
          "model_module": "@jupyter-widgets/controls",
          "model_name": "ProgressStyleModel",
          "state": {
            "_view_name": "StyleView",
            "_model_name": "ProgressStyleModel",
            "description_width": "initial",
            "_view_module": "@jupyter-widgets/base",
            "_model_module_version": "1.5.0",
            "_view_count": null,
            "_view_module_version": "1.2.0",
            "bar_color": null,
            "_model_module": "@jupyter-widgets/controls"
          }
        },
        "52572563107b4d4e9b1a5a3c559b4bc8": {
          "model_module": "@jupyter-widgets/base",
          "model_name": "LayoutModel",
          "state": {
            "_view_name": "LayoutView",
            "grid_template_rows": null,
            "right": null,
            "justify_content": null,
            "_view_module": "@jupyter-widgets/base",
            "overflow": null,
            "_model_module_version": "1.2.0",
            "_view_count": null,
            "flex_flow": null,
            "width": null,
            "min_width": null,
            "border": null,
            "align_items": null,
            "bottom": null,
            "_model_module": "@jupyter-widgets/base",
            "top": null,
            "grid_column": null,
            "overflow_y": null,
            "overflow_x": null,
            "grid_auto_flow": null,
            "grid_area": null,
            "grid_template_columns": null,
            "flex": null,
            "_model_name": "LayoutModel",
            "justify_items": null,
            "grid_row": null,
            "max_height": null,
            "align_content": null,
            "visibility": null,
            "align_self": null,
            "height": null,
            "min_height": null,
            "padding": null,
            "grid_auto_rows": null,
            "grid_gap": null,
            "max_width": null,
            "order": null,
            "_view_module_version": "1.2.0",
            "grid_template_areas": null,
            "object_position": null,
            "object_fit": null,
            "grid_auto_columns": null,
            "margin": null,
            "display": null,
            "left": null
          }
        },
        "b011f8ef67c2427d84bc6d68390a92a6": {
          "model_module": "@jupyter-widgets/controls",
          "model_name": "DescriptionStyleModel",
          "state": {
            "_view_name": "StyleView",
            "_model_name": "DescriptionStyleModel",
            "description_width": "",
            "_view_module": "@jupyter-widgets/base",
            "_model_module_version": "1.5.0",
            "_view_count": null,
            "_view_module_version": "1.2.0",
            "_model_module": "@jupyter-widgets/controls"
          }
        },
        "99057befc98146b8ba36d2c39116ca5b": {
          "model_module": "@jupyter-widgets/base",
          "model_name": "LayoutModel",
          "state": {
            "_view_name": "LayoutView",
            "grid_template_rows": null,
            "right": null,
            "justify_content": null,
            "_view_module": "@jupyter-widgets/base",
            "overflow": null,
            "_model_module_version": "1.2.0",
            "_view_count": null,
            "flex_flow": null,
            "width": null,
            "min_width": null,
            "border": null,
            "align_items": null,
            "bottom": null,
            "_model_module": "@jupyter-widgets/base",
            "top": null,
            "grid_column": null,
            "overflow_y": null,
            "overflow_x": null,
            "grid_auto_flow": null,
            "grid_area": null,
            "grid_template_columns": null,
            "flex": null,
            "_model_name": "LayoutModel",
            "justify_items": null,
            "grid_row": null,
            "max_height": null,
            "align_content": null,
            "visibility": null,
            "align_self": null,
            "height": null,
            "min_height": null,
            "padding": null,
            "grid_auto_rows": null,
            "grid_gap": null,
            "max_width": null,
            "order": null,
            "_view_module_version": "1.2.0",
            "grid_template_areas": null,
            "object_position": null,
            "object_fit": null,
            "grid_auto_columns": null,
            "margin": null,
            "display": null,
            "left": null
          }
        },
        "bf894334411f4f089c21727dd93883eb": {
          "model_module": "@jupyter-widgets/controls",
          "model_name": "HBoxModel",
          "state": {
            "_view_name": "HBoxView",
            "_dom_classes": [],
            "_model_name": "HBoxModel",
            "_view_module": "@jupyter-widgets/controls",
            "_model_module_version": "1.5.0",
            "_view_count": null,
            "_view_module_version": "1.5.0",
            "box_style": "",
            "layout": "IPY_MODEL_c79704c9d7c1447aa96f386658e981ec",
            "_model_module": "@jupyter-widgets/controls",
            "children": [
              "IPY_MODEL_40cf32e552994669a9fdfe54afd4a6f9",
              "IPY_MODEL_4f6b5b996a9b4ceeb77677e2101b922f"
            ]
          }
        },
        "c79704c9d7c1447aa96f386658e981ec": {
          "model_module": "@jupyter-widgets/base",
          "model_name": "LayoutModel",
          "state": {
            "_view_name": "LayoutView",
            "grid_template_rows": null,
            "right": null,
            "justify_content": null,
            "_view_module": "@jupyter-widgets/base",
            "overflow": null,
            "_model_module_version": "1.2.0",
            "_view_count": null,
            "flex_flow": null,
            "width": null,
            "min_width": null,
            "border": null,
            "align_items": null,
            "bottom": null,
            "_model_module": "@jupyter-widgets/base",
            "top": null,
            "grid_column": null,
            "overflow_y": null,
            "overflow_x": null,
            "grid_auto_flow": null,
            "grid_area": null,
            "grid_template_columns": null,
            "flex": null,
            "_model_name": "LayoutModel",
            "justify_items": null,
            "grid_row": null,
            "max_height": null,
            "align_content": null,
            "visibility": null,
            "align_self": null,
            "height": null,
            "min_height": null,
            "padding": null,
            "grid_auto_rows": null,
            "grid_gap": null,
            "max_width": null,
            "order": null,
            "_view_module_version": "1.2.0",
            "grid_template_areas": null,
            "object_position": null,
            "object_fit": null,
            "grid_auto_columns": null,
            "margin": null,
            "display": null,
            "left": null
          }
        },
        "40cf32e552994669a9fdfe54afd4a6f9": {
          "model_module": "@jupyter-widgets/controls",
          "model_name": "FloatProgressModel",
          "state": {
            "_view_name": "ProgressView",
            "style": "IPY_MODEL_45e7be257d804c51a2f1b1a3df95834d",
            "_dom_classes": [],
            "description": "Downloading: 100%",
            "_model_name": "FloatProgressModel",
            "bar_style": "success",
            "max": 764,
            "_view_module": "@jupyter-widgets/controls",
            "_model_module_version": "1.5.0",
            "value": 764,
            "_view_count": null,
            "_view_module_version": "1.5.0",
            "orientation": "horizontal",
            "min": 0,
            "description_tooltip": null,
            "_model_module": "@jupyter-widgets/controls",
            "layout": "IPY_MODEL_35daa57db8aa446dbc358b8658c621f6"
          }
        },
        "4f6b5b996a9b4ceeb77677e2101b922f": {
          "model_module": "@jupyter-widgets/controls",
          "model_name": "HTMLModel",
          "state": {
            "_view_name": "HTMLView",
            "style": "IPY_MODEL_3bbd0c017d124ac49346e0674d984e61",
            "_dom_classes": [],
            "description": "",
            "_model_name": "HTMLModel",
            "placeholder": "​",
            "_view_module": "@jupyter-widgets/controls",
            "_model_module_version": "1.5.0",
            "value": " 764/764 [00:00&lt;00:00, 2.01kB/s]",
            "_view_count": null,
            "_view_module_version": "1.5.0",
            "description_tooltip": null,
            "_model_module": "@jupyter-widgets/controls",
            "layout": "IPY_MODEL_d9110d831ef64278ba71255af2eb88b1"
          }
        },
        "45e7be257d804c51a2f1b1a3df95834d": {
          "model_module": "@jupyter-widgets/controls",
          "model_name": "ProgressStyleModel",
          "state": {
            "_view_name": "StyleView",
            "_model_name": "ProgressStyleModel",
            "description_width": "initial",
            "_view_module": "@jupyter-widgets/base",
            "_model_module_version": "1.5.0",
            "_view_count": null,
            "_view_module_version": "1.2.0",
            "bar_color": null,
            "_model_module": "@jupyter-widgets/controls"
          }
        },
        "35daa57db8aa446dbc358b8658c621f6": {
          "model_module": "@jupyter-widgets/base",
          "model_name": "LayoutModel",
          "state": {
            "_view_name": "LayoutView",
            "grid_template_rows": null,
            "right": null,
            "justify_content": null,
            "_view_module": "@jupyter-widgets/base",
            "overflow": null,
            "_model_module_version": "1.2.0",
            "_view_count": null,
            "flex_flow": null,
            "width": null,
            "min_width": null,
            "border": null,
            "align_items": null,
            "bottom": null,
            "_model_module": "@jupyter-widgets/base",
            "top": null,
            "grid_column": null,
            "overflow_y": null,
            "overflow_x": null,
            "grid_auto_flow": null,
            "grid_area": null,
            "grid_template_columns": null,
            "flex": null,
            "_model_name": "LayoutModel",
            "justify_items": null,
            "grid_row": null,
            "max_height": null,
            "align_content": null,
            "visibility": null,
            "align_self": null,
            "height": null,
            "min_height": null,
            "padding": null,
            "grid_auto_rows": null,
            "grid_gap": null,
            "max_width": null,
            "order": null,
            "_view_module_version": "1.2.0",
            "grid_template_areas": null,
            "object_position": null,
            "object_fit": null,
            "grid_auto_columns": null,
            "margin": null,
            "display": null,
            "left": null
          }
        },
        "3bbd0c017d124ac49346e0674d984e61": {
          "model_module": "@jupyter-widgets/controls",
          "model_name": "DescriptionStyleModel",
          "state": {
            "_view_name": "StyleView",
            "_model_name": "DescriptionStyleModel",
            "description_width": "",
            "_view_module": "@jupyter-widgets/base",
            "_model_module_version": "1.5.0",
            "_view_count": null,
            "_view_module_version": "1.2.0",
            "_model_module": "@jupyter-widgets/controls"
          }
        },
        "d9110d831ef64278ba71255af2eb88b1": {
          "model_module": "@jupyter-widgets/base",
          "model_name": "LayoutModel",
          "state": {
            "_view_name": "LayoutView",
            "grid_template_rows": null,
            "right": null,
            "justify_content": null,
            "_view_module": "@jupyter-widgets/base",
            "overflow": null,
            "_model_module_version": "1.2.0",
            "_view_count": null,
            "flex_flow": null,
            "width": null,
            "min_width": null,
            "border": null,
            "align_items": null,
            "bottom": null,
            "_model_module": "@jupyter-widgets/base",
            "top": null,
            "grid_column": null,
            "overflow_y": null,
            "overflow_x": null,
            "grid_auto_flow": null,
            "grid_area": null,
            "grid_template_columns": null,
            "flex": null,
            "_model_name": "LayoutModel",
            "justify_items": null,
            "grid_row": null,
            "max_height": null,
            "align_content": null,
            "visibility": null,
            "align_self": null,
            "height": null,
            "min_height": null,
            "padding": null,
            "grid_auto_rows": null,
            "grid_gap": null,
            "max_width": null,
            "order": null,
            "_view_module_version": "1.2.0",
            "grid_template_areas": null,
            "object_position": null,
            "object_fit": null,
            "grid_auto_columns": null,
            "margin": null,
            "display": null,
            "left": null
          }
        },
        "ba62918d4a4c4fca8253c8da068d6a64": {
          "model_module": "@jupyter-widgets/controls",
          "model_name": "HBoxModel",
          "state": {
            "_view_name": "HBoxView",
            "_dom_classes": [],
            "_model_name": "HBoxModel",
            "_view_module": "@jupyter-widgets/controls",
            "_model_module_version": "1.5.0",
            "_view_count": null,
            "_view_module_version": "1.5.0",
            "box_style": "",
            "layout": "IPY_MODEL_a1c44c60f4f043f9adee381cd91442b4",
            "_model_module": "@jupyter-widgets/controls",
            "children": [
              "IPY_MODEL_80da041e0ef14de6b470d7f51b9face8",
              "IPY_MODEL_fc3c24350d4c40ad9d6b4788e3a34ca6"
            ]
          }
        },
        "a1c44c60f4f043f9adee381cd91442b4": {
          "model_module": "@jupyter-widgets/base",
          "model_name": "LayoutModel",
          "state": {
            "_view_name": "LayoutView",
            "grid_template_rows": null,
            "right": null,
            "justify_content": null,
            "_view_module": "@jupyter-widgets/base",
            "overflow": null,
            "_model_module_version": "1.2.0",
            "_view_count": null,
            "flex_flow": null,
            "width": null,
            "min_width": null,
            "border": null,
            "align_items": null,
            "bottom": null,
            "_model_module": "@jupyter-widgets/base",
            "top": null,
            "grid_column": null,
            "overflow_y": null,
            "overflow_x": null,
            "grid_auto_flow": null,
            "grid_area": null,
            "grid_template_columns": null,
            "flex": null,
            "_model_name": "LayoutModel",
            "justify_items": null,
            "grid_row": null,
            "max_height": null,
            "align_content": null,
            "visibility": null,
            "align_self": null,
            "height": null,
            "min_height": null,
            "padding": null,
            "grid_auto_rows": null,
            "grid_gap": null,
            "max_width": null,
            "order": null,
            "_view_module_version": "1.2.0",
            "grid_template_areas": null,
            "object_position": null,
            "object_fit": null,
            "grid_auto_columns": null,
            "margin": null,
            "display": null,
            "left": null
          }
        },
        "80da041e0ef14de6b470d7f51b9face8": {
          "model_module": "@jupyter-widgets/controls",
          "model_name": "FloatProgressModel",
          "state": {
            "_view_name": "ProgressView",
            "style": "IPY_MODEL_cb4c35ff2f0642bbae5a23c001b5680e",
            "_dom_classes": [],
            "description": "Downloading: 100%",
            "_model_name": "FloatProgressModel",
            "bar_style": "success",
            "max": 3096618024,
            "_view_module": "@jupyter-widgets/controls",
            "_model_module_version": "1.5.0",
            "value": 3096618024,
            "_view_count": null,
            "_view_module_version": "1.5.0",
            "orientation": "horizontal",
            "min": 0,
            "description_tooltip": null,
            "_model_module": "@jupyter-widgets/controls",
            "layout": "IPY_MODEL_9c3c1334570846a49b3546c6326ca32d"
          }
        },
        "fc3c24350d4c40ad9d6b4788e3a34ca6": {
          "model_module": "@jupyter-widgets/controls",
          "model_name": "HTMLModel",
          "state": {
            "_view_name": "HTMLView",
            "style": "IPY_MODEL_16d365690c00486f9d5d1ef5de3e3f86",
            "_dom_classes": [],
            "description": "",
            "_model_name": "HTMLModel",
            "placeholder": "​",
            "_view_module": "@jupyter-widgets/controls",
            "_model_module_version": "1.5.0",
            "value": " 3.10G/3.10G [01:30&lt;00:00, 34.3MB/s]",
            "_view_count": null,
            "_view_module_version": "1.5.0",
            "description_tooltip": null,
            "_model_module": "@jupyter-widgets/controls",
            "layout": "IPY_MODEL_01395d13bd40427e8c8d94ae283c1081"
          }
        },
        "cb4c35ff2f0642bbae5a23c001b5680e": {
          "model_module": "@jupyter-widgets/controls",
          "model_name": "ProgressStyleModel",
          "state": {
            "_view_name": "StyleView",
            "_model_name": "ProgressStyleModel",
            "description_width": "initial",
            "_view_module": "@jupyter-widgets/base",
            "_model_module_version": "1.5.0",
            "_view_count": null,
            "_view_module_version": "1.2.0",
            "bar_color": null,
            "_model_module": "@jupyter-widgets/controls"
          }
        },
        "9c3c1334570846a49b3546c6326ca32d": {
          "model_module": "@jupyter-widgets/base",
          "model_name": "LayoutModel",
          "state": {
            "_view_name": "LayoutView",
            "grid_template_rows": null,
            "right": null,
            "justify_content": null,
            "_view_module": "@jupyter-widgets/base",
            "overflow": null,
            "_model_module_version": "1.2.0",
            "_view_count": null,
            "flex_flow": null,
            "width": null,
            "min_width": null,
            "border": null,
            "align_items": null,
            "bottom": null,
            "_model_module": "@jupyter-widgets/base",
            "top": null,
            "grid_column": null,
            "overflow_y": null,
            "overflow_x": null,
            "grid_auto_flow": null,
            "grid_area": null,
            "grid_template_columns": null,
            "flex": null,
            "_model_name": "LayoutModel",
            "justify_items": null,
            "grid_row": null,
            "max_height": null,
            "align_content": null,
            "visibility": null,
            "align_self": null,
            "height": null,
            "min_height": null,
            "padding": null,
            "grid_auto_rows": null,
            "grid_gap": null,
            "max_width": null,
            "order": null,
            "_view_module_version": "1.2.0",
            "grid_template_areas": null,
            "object_position": null,
            "object_fit": null,
            "grid_auto_columns": null,
            "margin": null,
            "display": null,
            "left": null
          }
        },
        "16d365690c00486f9d5d1ef5de3e3f86": {
          "model_module": "@jupyter-widgets/controls",
          "model_name": "DescriptionStyleModel",
          "state": {
            "_view_name": "StyleView",
            "_model_name": "DescriptionStyleModel",
            "description_width": "",
            "_view_module": "@jupyter-widgets/base",
            "_model_module_version": "1.5.0",
            "_view_count": null,
            "_view_module_version": "1.2.0",
            "_model_module": "@jupyter-widgets/controls"
          }
        },
        "01395d13bd40427e8c8d94ae283c1081": {
          "model_module": "@jupyter-widgets/base",
          "model_name": "LayoutModel",
          "state": {
            "_view_name": "LayoutView",
            "grid_template_rows": null,
            "right": null,
            "justify_content": null,
            "_view_module": "@jupyter-widgets/base",
            "overflow": null,
            "_model_module_version": "1.2.0",
            "_view_count": null,
            "flex_flow": null,
            "width": null,
            "min_width": null,
            "border": null,
            "align_items": null,
            "bottom": null,
            "_model_module": "@jupyter-widgets/base",
            "top": null,
            "grid_column": null,
            "overflow_y": null,
            "overflow_x": null,
            "grid_auto_flow": null,
            "grid_area": null,
            "grid_template_columns": null,
            "flex": null,
            "_model_name": "LayoutModel",
            "justify_items": null,
            "grid_row": null,
            "max_height": null,
            "align_content": null,
            "visibility": null,
            "align_self": null,
            "height": null,
            "min_height": null,
            "padding": null,
            "grid_auto_rows": null,
            "grid_gap": null,
            "max_width": null,
            "order": null,
            "_view_module_version": "1.2.0",
            "grid_template_areas": null,
            "object_position": null,
            "object_fit": null,
            "grid_auto_columns": null,
            "margin": null,
            "display": null,
            "left": null
          }
        }
      }
    }
  },
  "cells": [
    {
      "cell_type": "markdown",
      "metadata": {
        "id": "view-in-github",
        "colab_type": "text"
      },
      "source": [
        "<a href=\"https://colab.research.google.com/github/Kaif10/NLP-with-HuggingFace/blob/main/Text_generation_with_GPT2.ipynb\" target=\"_parent\"><img src=\"https://colab.research.google.com/assets/colab-badge.svg\" alt=\"Open In Colab\"/></a>"
      ]
    },
    {
      "cell_type": "markdown",
      "metadata": {
        "id": "2peZZi_GsFfL"
      },
      "source": [
        "I have recently decided to explore the ins and outs of the 😊 Transformers library and this is the next chapter in that journey. In this notebook, I will explore text generation using a GPT-2 model, which was trained to predict next words on 40GB of Internet text data. The fully trained model is actually not available as the creators were concerned about 'malicious applications of the technology', but there is a much smaller version that is available for enthusiants to play with, which we will use here\n",
        "\n",
        "In this notebook, we will explore different decoding methods like Top-K sampling, and Top-P sampling, demonstrating their performance along the way. \n",
        "\n"
      ]
    },
    {
      "cell_type": "markdown",
      "metadata": {
        "id": "v4M2gMflsTSF"
      },
      "source": [
        "## Intro\n",
        "I. Intro\n",
        "A language model is a machine learning model that can look at part of a sentence and predict the next word/sequence of words. Much like the autofill features on your iPhone/Android, GPT-2 is capable of next word prediction on a much larger and more sophisticated scale. For reference, the smallest available GPT-2 has 117 million parameters, whereas the largest one (invisible to the public) has over 1.5 billion parameters. The largest one available for public use is half the size of their main GPT-2 model\n",
        "\n",
        "😊 Transformers makes it very easy to import this model with both PyTorch and TensorFlow - in this notebook we will be using TensorFlow. Both the model and its Tokenizer can be imported from the transformers library that anyone can get by typing !pip install transformers. Let's see just how simple it is to generate text with a neural network. "
      ]
    },
    {
      "cell_type": "code",
      "metadata": {
        "colab": {
          "base_uri": "https://localhost:8080/"
        },
        "id": "WFbnluvIMPPX",
        "outputId": "aef46df0-a917-499e-ce88-c3bc6e5cefa7"
      },
      "source": [
        "!pip install transformers"
      ],
      "execution_count": 2,
      "outputs": [
        {
          "output_type": "stream",
          "text": [
            "Collecting transformers\n",
            "\u001b[?25l  Downloading https://files.pythonhosted.org/packages/ed/db/98c3ea1a78190dac41c0127a063abf92bd01b4b0b6970a6db1c2f5b66fa0/transformers-4.0.1-py3-none-any.whl (1.4MB)\n",
            "\r\u001b[K     |▎                               | 10kB 25.1MB/s eta 0:00:01\r\u001b[K     |▌                               | 20kB 33.6MB/s eta 0:00:01\r\u001b[K     |▊                               | 30kB 21.5MB/s eta 0:00:01\r\u001b[K     |█                               | 40kB 25.4MB/s eta 0:00:01\r\u001b[K     |█▏                              | 51kB 24.3MB/s eta 0:00:01\r\u001b[K     |█▌                              | 61kB 26.0MB/s eta 0:00:01\r\u001b[K     |█▊                              | 71kB 18.0MB/s eta 0:00:01\r\u001b[K     |██                              | 81kB 19.4MB/s eta 0:00:01\r\u001b[K     |██▏                             | 92kB 18.0MB/s eta 0:00:01\r\u001b[K     |██▍                             | 102kB 18.1MB/s eta 0:00:01\r\u001b[K     |██▋                             | 112kB 18.1MB/s eta 0:00:01\r\u001b[K     |███                             | 122kB 18.1MB/s eta 0:00:01\r\u001b[K     |███▏                            | 133kB 18.1MB/s eta 0:00:01\r\u001b[K     |███▍                            | 143kB 18.1MB/s eta 0:00:01\r\u001b[K     |███▋                            | 153kB 18.1MB/s eta 0:00:01\r\u001b[K     |███▉                            | 163kB 18.1MB/s eta 0:00:01\r\u001b[K     |████▏                           | 174kB 18.1MB/s eta 0:00:01\r\u001b[K     |████▍                           | 184kB 18.1MB/s eta 0:00:01\r\u001b[K     |████▋                           | 194kB 18.1MB/s eta 0:00:01\r\u001b[K     |████▉                           | 204kB 18.1MB/s eta 0:00:01\r\u001b[K     |█████                           | 215kB 18.1MB/s eta 0:00:01\r\u001b[K     |█████▎                          | 225kB 18.1MB/s eta 0:00:01\r\u001b[K     |█████▋                          | 235kB 18.1MB/s eta 0:00:01\r\u001b[K     |█████▉                          | 245kB 18.1MB/s eta 0:00:01\r\u001b[K     |██████                          | 256kB 18.1MB/s eta 0:00:01\r\u001b[K     |██████▎                         | 266kB 18.1MB/s eta 0:00:01\r\u001b[K     |██████▌                         | 276kB 18.1MB/s eta 0:00:01\r\u001b[K     |██████▉                         | 286kB 18.1MB/s eta 0:00:01\r\u001b[K     |███████                         | 296kB 18.1MB/s eta 0:00:01\r\u001b[K     |███████▎                        | 307kB 18.1MB/s eta 0:00:01\r\u001b[K     |███████▌                        | 317kB 18.1MB/s eta 0:00:01\r\u001b[K     |███████▊                        | 327kB 18.1MB/s eta 0:00:01\r\u001b[K     |████████                        | 337kB 18.1MB/s eta 0:00:01\r\u001b[K     |████████▎                       | 348kB 18.1MB/s eta 0:00:01\r\u001b[K     |████████▌                       | 358kB 18.1MB/s eta 0:00:01\r\u001b[K     |████████▊                       | 368kB 18.1MB/s eta 0:00:01\r\u001b[K     |█████████                       | 378kB 18.1MB/s eta 0:00:01\r\u001b[K     |█████████▏                      | 389kB 18.1MB/s eta 0:00:01\r\u001b[K     |█████████▌                      | 399kB 18.1MB/s eta 0:00:01\r\u001b[K     |█████████▊                      | 409kB 18.1MB/s eta 0:00:01\r\u001b[K     |██████████                      | 419kB 18.1MB/s eta 0:00:01\r\u001b[K     |██████████▏                     | 430kB 18.1MB/s eta 0:00:01\r\u001b[K     |██████████▍                     | 440kB 18.1MB/s eta 0:00:01\r\u001b[K     |██████████▋                     | 450kB 18.1MB/s eta 0:00:01\r\u001b[K     |███████████                     | 460kB 18.1MB/s eta 0:00:01\r\u001b[K     |███████████▏                    | 471kB 18.1MB/s eta 0:00:01\r\u001b[K     |███████████▍                    | 481kB 18.1MB/s eta 0:00:01\r\u001b[K     |███████████▋                    | 491kB 18.1MB/s eta 0:00:01\r\u001b[K     |███████████▉                    | 501kB 18.1MB/s eta 0:00:01\r\u001b[K     |████████████▏                   | 512kB 18.1MB/s eta 0:00:01\r\u001b[K     |████████████▍                   | 522kB 18.1MB/s eta 0:00:01\r\u001b[K     |████████████▋                   | 532kB 18.1MB/s eta 0:00:01\r\u001b[K     |████████████▉                   | 542kB 18.1MB/s eta 0:00:01\r\u001b[K     |█████████████                   | 552kB 18.1MB/s eta 0:00:01\r\u001b[K     |█████████████▎                  | 563kB 18.1MB/s eta 0:00:01\r\u001b[K     |█████████████▋                  | 573kB 18.1MB/s eta 0:00:01\r\u001b[K     |█████████████▉                  | 583kB 18.1MB/s eta 0:00:01\r\u001b[K     |██████████████                  | 593kB 18.1MB/s eta 0:00:01\r\u001b[K     |██████████████▎                 | 604kB 18.1MB/s eta 0:00:01\r\u001b[K     |██████████████▌                 | 614kB 18.1MB/s eta 0:00:01\r\u001b[K     |██████████████▉                 | 624kB 18.1MB/s eta 0:00:01\r\u001b[K     |███████████████                 | 634kB 18.1MB/s eta 0:00:01\r\u001b[K     |███████████████▎                | 645kB 18.1MB/s eta 0:00:01\r\u001b[K     |███████████████▌                | 655kB 18.1MB/s eta 0:00:01\r\u001b[K     |███████████████▊                | 665kB 18.1MB/s eta 0:00:01\r\u001b[K     |████████████████                | 675kB 18.1MB/s eta 0:00:01\r\u001b[K     |████████████████▎               | 686kB 18.1MB/s eta 0:00:01\r\u001b[K     |████████████████▌               | 696kB 18.1MB/s eta 0:00:01\r\u001b[K     |████████████████▊               | 706kB 18.1MB/s eta 0:00:01\r\u001b[K     |█████████████████               | 716kB 18.1MB/s eta 0:00:01\r\u001b[K     |█████████████████▏              | 727kB 18.1MB/s eta 0:00:01\r\u001b[K     |█████████████████▌              | 737kB 18.1MB/s eta 0:00:01\r\u001b[K     |█████████████████▊              | 747kB 18.1MB/s eta 0:00:01\r\u001b[K     |██████████████████              | 757kB 18.1MB/s eta 0:00:01\r\u001b[K     |██████████████████▏             | 768kB 18.1MB/s eta 0:00:01\r\u001b[K     |██████████████████▍             | 778kB 18.1MB/s eta 0:00:01\r\u001b[K     |██████████████████▋             | 788kB 18.1MB/s eta 0:00:01\r\u001b[K     |███████████████████             | 798kB 18.1MB/s eta 0:00:01\r\u001b[K     |███████████████████▏            | 808kB 18.1MB/s eta 0:00:01\r\u001b[K     |███████████████████▍            | 819kB 18.1MB/s eta 0:00:01\r\u001b[K     |███████████████████▋            | 829kB 18.1MB/s eta 0:00:01\r\u001b[K     |███████████████████▉            | 839kB 18.1MB/s eta 0:00:01\r\u001b[K     |████████████████████▏           | 849kB 18.1MB/s eta 0:00:01\r\u001b[K     |████████████████████▍           | 860kB 18.1MB/s eta 0:00:01\r\u001b[K     |████████████████████▋           | 870kB 18.1MB/s eta 0:00:01\r\u001b[K     |████████████████████▉           | 880kB 18.1MB/s eta 0:00:01\r\u001b[K     |█████████████████████           | 890kB 18.1MB/s eta 0:00:01\r\u001b[K     |█████████████████████▎          | 901kB 18.1MB/s eta 0:00:01\r\u001b[K     |█████████████████████▋          | 911kB 18.1MB/s eta 0:00:01\r\u001b[K     |█████████████████████▉          | 921kB 18.1MB/s eta 0:00:01\r\u001b[K     |██████████████████████          | 931kB 18.1MB/s eta 0:00:01\r\u001b[K     |██████████████████████▎         | 942kB 18.1MB/s eta 0:00:01\r\u001b[K     |██████████████████████▌         | 952kB 18.1MB/s eta 0:00:01\r\u001b[K     |██████████████████████▊         | 962kB 18.1MB/s eta 0:00:01\r\u001b[K     |███████████████████████         | 972kB 18.1MB/s eta 0:00:01\r\u001b[K     |███████████████████████▎        | 983kB 18.1MB/s eta 0:00:01\r\u001b[K     |███████████████████████▌        | 993kB 18.1MB/s eta 0:00:01\r\u001b[K     |███████████████████████▊        | 1.0MB 18.1MB/s eta 0:00:01\r\u001b[K     |████████████████████████        | 1.0MB 18.1MB/s eta 0:00:01\r\u001b[K     |████████████████████████▎       | 1.0MB 18.1MB/s eta 0:00:01\r\u001b[K     |████████████████████████▌       | 1.0MB 18.1MB/s eta 0:00:01\r\u001b[K     |████████████████████████▊       | 1.0MB 18.1MB/s eta 0:00:01\r\u001b[K     |█████████████████████████       | 1.1MB 18.1MB/s eta 0:00:01\r\u001b[K     |█████████████████████████▏      | 1.1MB 18.1MB/s eta 0:00:01\r\u001b[K     |█████████████████████████▍      | 1.1MB 18.1MB/s eta 0:00:01\r\u001b[K     |█████████████████████████▊      | 1.1MB 18.1MB/s eta 0:00:01\r\u001b[K     |██████████████████████████      | 1.1MB 18.1MB/s eta 0:00:01\r\u001b[K     |██████████████████████████▏     | 1.1MB 18.1MB/s eta 0:00:01\r\u001b[K     |██████████████████████████▍     | 1.1MB 18.1MB/s eta 0:00:01\r\u001b[K     |██████████████████████████▋     | 1.1MB 18.1MB/s eta 0:00:01\r\u001b[K     |███████████████████████████     | 1.1MB 18.1MB/s eta 0:00:01\r\u001b[K     |███████████████████████████▏    | 1.1MB 18.1MB/s eta 0:00:01\r\u001b[K     |███████████████████████████▍    | 1.2MB 18.1MB/s eta 0:00:01\r\u001b[K     |███████████████████████████▋    | 1.2MB 18.1MB/s eta 0:00:01\r\u001b[K     |███████████████████████████▉    | 1.2MB 18.1MB/s eta 0:00:01\r\u001b[K     |████████████████████████████    | 1.2MB 18.1MB/s eta 0:00:01\r\u001b[K     |████████████████████████████▍   | 1.2MB 18.1MB/s eta 0:00:01\r\u001b[K     |████████████████████████████▋   | 1.2MB 18.1MB/s eta 0:00:01\r\u001b[K     |████████████████████████████▉   | 1.2MB 18.1MB/s eta 0:00:01\r\u001b[K     |█████████████████████████████   | 1.2MB 18.1MB/s eta 0:00:01\r\u001b[K     |█████████████████████████████▎  | 1.2MB 18.1MB/s eta 0:00:01\r\u001b[K     |█████████████████████████████▋  | 1.2MB 18.1MB/s eta 0:00:01\r\u001b[K     |█████████████████████████████▉  | 1.3MB 18.1MB/s eta 0:00:01\r\u001b[K     |██████████████████████████████  | 1.3MB 18.1MB/s eta 0:00:01\r\u001b[K     |██████████████████████████████▎ | 1.3MB 18.1MB/s eta 0:00:01\r\u001b[K     |██████████████████████████████▌ | 1.3MB 18.1MB/s eta 0:00:01\r\u001b[K     |██████████████████████████████▊ | 1.3MB 18.1MB/s eta 0:00:01\r\u001b[K     |███████████████████████████████ | 1.3MB 18.1MB/s eta 0:00:01\r\u001b[K     |███████████████████████████████▎| 1.3MB 18.1MB/s eta 0:00:01\r\u001b[K     |███████████████████████████████▌| 1.3MB 18.1MB/s eta 0:00:01\r\u001b[K     |███████████████████████████████▊| 1.3MB 18.1MB/s eta 0:00:01\r\u001b[K     |████████████████████████████████| 1.4MB 18.1MB/s eta 0:00:01\r\u001b[K     |████████████████████████████████| 1.4MB 18.1MB/s \n",
            "\u001b[?25hRequirement already satisfied: filelock in /usr/local/lib/python3.6/dist-packages (from transformers) (3.0.12)\n",
            "Requirement already satisfied: numpy in /usr/local/lib/python3.6/dist-packages (from transformers) (1.18.5)\n",
            "Requirement already satisfied: requests in /usr/local/lib/python3.6/dist-packages (from transformers) (2.23.0)\n",
            "Collecting tokenizers==0.9.4\n",
            "\u001b[?25l  Downloading https://files.pythonhosted.org/packages/0f/1c/e789a8b12e28be5bc1ce2156cf87cb522b379be9cadc7ad8091a4cc107c4/tokenizers-0.9.4-cp36-cp36m-manylinux2010_x86_64.whl (2.9MB)\n",
            "\u001b[K     |████████████████████████████████| 2.9MB 48.4MB/s \n",
            "\u001b[?25hRequirement already satisfied: tqdm>=4.27 in /usr/local/lib/python3.6/dist-packages (from transformers) (4.41.1)\n",
            "Requirement already satisfied: packaging in /usr/local/lib/python3.6/dist-packages (from transformers) (20.7)\n",
            "Requirement already satisfied: dataclasses; python_version < \"3.7\" in /usr/local/lib/python3.6/dist-packages (from transformers) (0.8)\n",
            "Collecting sacremoses\n",
            "\u001b[?25l  Downloading https://files.pythonhosted.org/packages/7d/34/09d19aff26edcc8eb2a01bed8e98f13a1537005d31e95233fd48216eed10/sacremoses-0.0.43.tar.gz (883kB)\n",
            "\u001b[K     |████████████████████████████████| 890kB 43.1MB/s \n",
            "\u001b[?25hRequirement already satisfied: regex!=2019.12.17 in /usr/local/lib/python3.6/dist-packages (from transformers) (2019.12.20)\n",
            "Requirement already satisfied: idna<3,>=2.5 in /usr/local/lib/python3.6/dist-packages (from requests->transformers) (2.10)\n",
            "Requirement already satisfied: urllib3!=1.25.0,!=1.25.1,<1.26,>=1.21.1 in /usr/local/lib/python3.6/dist-packages (from requests->transformers) (1.24.3)\n",
            "Requirement already satisfied: certifi>=2017.4.17 in /usr/local/lib/python3.6/dist-packages (from requests->transformers) (2020.12.5)\n",
            "Requirement already satisfied: chardet<4,>=3.0.2 in /usr/local/lib/python3.6/dist-packages (from requests->transformers) (3.0.4)\n",
            "Requirement already satisfied: pyparsing>=2.0.2 in /usr/local/lib/python3.6/dist-packages (from packaging->transformers) (2.4.7)\n",
            "Requirement already satisfied: six in /usr/local/lib/python3.6/dist-packages (from sacremoses->transformers) (1.15.0)\n",
            "Requirement already satisfied: click in /usr/local/lib/python3.6/dist-packages (from sacremoses->transformers) (7.1.2)\n",
            "Requirement already satisfied: joblib in /usr/local/lib/python3.6/dist-packages (from sacremoses->transformers) (0.17.0)\n",
            "Building wheels for collected packages: sacremoses\n",
            "  Building wheel for sacremoses (setup.py) ... \u001b[?25l\u001b[?25hdone\n",
            "  Created wheel for sacremoses: filename=sacremoses-0.0.43-cp36-none-any.whl size=893261 sha256=0017baee43fab610bb85ed7e42da9a5d7710d74d9e60b228c4ff6332badf7860\n",
            "  Stored in directory: /root/.cache/pip/wheels/29/3c/fd/7ce5c3f0666dab31a50123635e6fb5e19ceb42ce38d4e58f45\n",
            "Successfully built sacremoses\n",
            "Installing collected packages: tokenizers, sacremoses, transformers\n",
            "Successfully installed sacremoses-0.0.43 tokenizers-0.9.4 transformers-4.0.1\n"
          ],
          "name": "stdout"
        }
      ]
    },
    {
      "cell_type": "markdown",
      "metadata": {
        "id": "fdXkVmkcsg_4"
      },
      "source": [
        "### We will choose the largest available GPT-2 model but it is easy to install the other sizes if you want to mess around with them:"
      ]
    },
    {
      "cell_type": "code",
      "metadata": {
        "colab": {
          "base_uri": "https://localhost:8080/",
          "height": 447,
          "referenced_widgets": [
            "e5567a4c0604438c9689698d31f214a8",
            "20807260dae047c49b8bb15efb6445df",
            "1be059d0a99645dcb6f1459fe5becfd5",
            "d25e147209ce497ab8ca77e4b2cdf880",
            "90e5256af1fc4f7e89d0f53efb3ad57e",
            "5aae4abc8d4543d9bf70150614b71995",
            "111159659c0e45a5bea7b23cf3c6a62c",
            "6fd83bfbed624c168fc05fcfbde76f41",
            "96f366b1294f4a32a0f43bf40dea9b6e",
            "de6f92bf1a2444aea8a3073be8aad91e",
            "d946d84b8a36423ab8d0efd41289129c",
            "ab8a91fb8a5242f48cfe47bfb820d4c1",
            "ba744464465540318e32bf3cd6e1a6ee",
            "52572563107b4d4e9b1a5a3c559b4bc8",
            "b011f8ef67c2427d84bc6d68390a92a6",
            "99057befc98146b8ba36d2c39116ca5b",
            "bf894334411f4f089c21727dd93883eb",
            "c79704c9d7c1447aa96f386658e981ec",
            "40cf32e552994669a9fdfe54afd4a6f9",
            "4f6b5b996a9b4ceeb77677e2101b922f",
            "45e7be257d804c51a2f1b1a3df95834d",
            "35daa57db8aa446dbc358b8658c621f6",
            "3bbd0c017d124ac49346e0674d984e61",
            "d9110d831ef64278ba71255af2eb88b1",
            "ba62918d4a4c4fca8253c8da068d6a64",
            "a1c44c60f4f043f9adee381cd91442b4",
            "80da041e0ef14de6b470d7f51b9face8",
            "fc3c24350d4c40ad9d6b4788e3a34ca6",
            "cb4c35ff2f0642bbae5a23c001b5680e",
            "9c3c1334570846a49b3546c6326ca32d",
            "16d365690c00486f9d5d1ef5de3e3f86",
            "01395d13bd40427e8c8d94ae283c1081"
          ]
        },
        "id": "ilRR7laRMP5O",
        "outputId": "303d3bca-bb9d-4739-fff5-8a79e824a4ac"
      },
      "source": [
        "#get transformers\n",
        "from transformers import TFGPT2LMHeadModel, GPT2Tokenizer\n",
        "\n",
        "#get large GPT2 tokenizer and GPT2 model\n",
        "tokenizer = GPT2Tokenizer.from_pretrained(\"gpt2-large\")\n",
        "GPT2 = TFGPT2LMHeadModel.from_pretrained(\"gpt2-large\", pad_token_id=tokenizer.eos_token_id)\n",
        "\n",
        "#tokenizer = GPT2Tokenizer.from_pretrained(\"gpt2-medium\")\n",
        "#GPT2 = TFGPT2LMHeadModel.from_pretrained(\"gpt2-medium\", pad_token_id=tokenizer.eos_token_id)\n",
        "\n",
        "#tokenizer = GPT2Tokenizer.from_pretrained(\"gpt2\")\n",
        "#GPT2 = TFGPT2LMHeadModel.from_pretrained(\"gpt2\", pad_token_id=tokenizer.eos_token_id)\n",
        "\n",
        "#view model parameters\n",
        "GPT2.summary()"
      ],
      "execution_count": 3,
      "outputs": [
        {
          "output_type": "display_data",
          "data": {
            "application/vnd.jupyter.widget-view+json": {
              "model_id": "e5567a4c0604438c9689698d31f214a8",
              "version_minor": 0,
              "version_major": 2
            },
            "text/plain": [
              "HBox(children=(FloatProgress(value=0.0, description='Downloading', max=1042301.0, style=ProgressStyle(descript…"
            ]
          },
          "metadata": {
            "tags": []
          }
        },
        {
          "output_type": "stream",
          "text": [
            "\n"
          ],
          "name": "stdout"
        },
        {
          "output_type": "display_data",
          "data": {
            "application/vnd.jupyter.widget-view+json": {
              "model_id": "96f366b1294f4a32a0f43bf40dea9b6e",
              "version_minor": 0,
              "version_major": 2
            },
            "text/plain": [
              "HBox(children=(FloatProgress(value=0.0, description='Downloading', max=456318.0, style=ProgressStyle(descripti…"
            ]
          },
          "metadata": {
            "tags": []
          }
        },
        {
          "output_type": "stream",
          "text": [
            "\n"
          ],
          "name": "stdout"
        },
        {
          "output_type": "display_data",
          "data": {
            "application/vnd.jupyter.widget-view+json": {
              "model_id": "bf894334411f4f089c21727dd93883eb",
              "version_minor": 0,
              "version_major": 2
            },
            "text/plain": [
              "HBox(children=(FloatProgress(value=0.0, description='Downloading', max=764.0, style=ProgressStyle(description_…"
            ]
          },
          "metadata": {
            "tags": []
          }
        },
        {
          "output_type": "stream",
          "text": [
            "\n"
          ],
          "name": "stdout"
        },
        {
          "output_type": "display_data",
          "data": {
            "application/vnd.jupyter.widget-view+json": {
              "model_id": "ba62918d4a4c4fca8253c8da068d6a64",
              "version_minor": 0,
              "version_major": 2
            },
            "text/plain": [
              "HBox(children=(FloatProgress(value=0.0, description='Downloading', max=3096618024.0, style=ProgressStyle(descr…"
            ]
          },
          "metadata": {
            "tags": []
          }
        },
        {
          "output_type": "stream",
          "text": [
            "\n"
          ],
          "name": "stdout"
        },
        {
          "output_type": "stream",
          "text": [
            "All model checkpoint layers were used when initializing TFGPT2LMHeadModel.\n",
            "\n",
            "All the layers of TFGPT2LMHeadModel were initialized from the model checkpoint at gpt2-large.\n",
            "If your task is similar to the task the model of the checkpoint was trained on, you can already use TFGPT2LMHeadModel for predictions without further training.\n"
          ],
          "name": "stderr"
        },
        {
          "output_type": "stream",
          "text": [
            "Model: \"tfgp_t2lm_head_model\"\n",
            "_________________________________________________________________\n",
            "Layer (type)                 Output Shape              Param #   \n",
            "=================================================================\n",
            "transformer (TFGPT2MainLayer multiple                  774030080 \n",
            "=================================================================\n",
            "Total params: 774,030,080\n",
            "Trainable params: 774,030,080\n",
            "Non-trainable params: 0\n",
            "_________________________________________________________________\n"
          ],
          "name": "stdout"
        }
      ]
    },
    {
      "cell_type": "code",
      "metadata": {
        "id": "tUQrYWo4MP-d"
      },
      "source": [
        "#This is our starting text and we will use GPT2 model to generate new ideas continuing the below sentence\r\n",
        "\r\n",
        "input_sequence = \"They both fell in love\""
      ],
      "execution_count": 4,
      "outputs": []
    },
    {
      "cell_type": "code",
      "metadata": {
        "id": "hwcxjmNHpjAQ"
      },
      "source": [
        "#for reproducability\n",
        "SEED = 34\n",
        "\n",
        "#maximum number of words in output text\n",
        "MAX_LEN = 70"
      ],
      "execution_count": 5,
      "outputs": []
    },
    {
      "cell_type": "code",
      "metadata": {
        "id": "RUxeW5nYMQC8"
      },
      "source": [
        "#get deep learning basics\n",
        "import tensorflow as tf\n",
        "tf.random.set_seed(SEED)"
      ],
      "execution_count": 6,
      "outputs": []
    },
    {
      "cell_type": "code",
      "metadata": {
        "colab": {
          "base_uri": "https://localhost:8080/"
        },
        "id": "Cz-aLcMPoprE",
        "outputId": "1282ef0e-d1c1-4b51-faba-c46bb32128e8"
      },
      "source": [
        "input_ids = tokenizer.encode(input_sequence, return_tensors='tf')\n",
        "\n",
        "# generate text until the output length (which includes the context length) reaches 50\n",
        "greedy_output = GPT2.generate(input_ids, max_length = MAX_LEN)\n",
        "\n",
        "print(\"Output:\\n\" + 100 * '-')\n",
        "print(tokenizer.decode(greedy_output[0], skip_special_tokens = True))"
      ],
      "execution_count": 7,
      "outputs": [
        {
          "output_type": "stream",
          "text": [
            "Output:\n",
            "----------------------------------------------------------------------------------------------------\n",
            "They both fell in love with the same girl, and they were both in love with the same guy. They both fell in love with the same girl, and they were both in love with the same guy. They both fell in love with the same girl, and they were both in love with the same guy. They both fell in love with the\n"
          ],
          "name": "stdout"
        }
      ]
    },
    {
      "cell_type": "code",
      "metadata": {
        "colab": {
          "base_uri": "https://localhost:8080/"
        },
        "id": "Lt_xPXooops6",
        "outputId": "f22397a8-fa8d-487f-8329-3a42baff549c"
      },
      "source": [
        "# set return_num_sequences > 1\n",
        "beam_outputs = GPT2.generate(\n",
        "    input_ids, \n",
        "    max_length = MAX_LEN, \n",
        "    num_beams = 5, \n",
        "    no_repeat_ngram_size = 2, \n",
        "    num_return_sequences = 5, \n",
        "    early_stopping = True\n",
        ")\n",
        "\n",
        "print('')\n",
        "print(\"Output:\\n\" + 100 * '-')\n",
        "\n",
        "# now we have 3 output sequences\n",
        "for i, beam_output in enumerate(beam_outputs):\n",
        "      print(\"{}: {}\".format(i, tokenizer.decode(beam_output, skip_special_tokens=True)))"
      ],
      "execution_count": 8,
      "outputs": [
        {
          "output_type": "stream",
          "text": [
            "\n",
            "Output:\n",
            "----------------------------------------------------------------------------------------------------\n",
            "0: They both fell in love with each other, and they were married. They had two children, a boy and a girl.\n",
            "\n",
            "\"They were very happy together,\" she said. \"They had a great life together.\"\n",
            "1: They both fell in love with each other, and they were married. They had two children, a boy and a girl.\n",
            "\n",
            "\"They were very happy together,\" he said. \"They had a great life together.\"\n",
            "2: They both fell in love with each other, and they were married. They had two children, a boy and a girl.\n",
            "\n",
            "\"They were very happy together,\" she said. \"They had a great life together.\"\n",
            "\n",
            "\n",
            "The couple had been living together for about a year and were planning to move in together when they got the news that\n",
            "3: They both fell in love with each other, and they were married. They had two children, a boy and a girl.\n",
            "\n",
            "\"They were very happy together,\" she said. \"They had a great life together.\"\n",
            "\n",
            "\n",
            "The couple had been living together for about a year and were planning to move in together when they got the call from\n",
            "4: They both fell in love with each other, and they were married. They had two children, a boy and a girl.\n",
            "\n",
            "\"They were very happy together,\" she said. \"They had a great life together.\"\n",
            "\n",
            "\n",
            "The couple had been living together for about a year and were planning to move in together when they got the call.\n"
          ],
          "name": "stdout"
        }
      ]
    },
    {
      "cell_type": "code",
      "metadata": {
        "colab": {
          "base_uri": "https://localhost:8080/"
        },
        "id": "6WnZF4w0opuT",
        "outputId": "d63f2414-9d30-4a98-da13-97e20208b4c7"
      },
      "source": [
        "# use temperature to decrease the sensitivity to low probability candidates\n",
        "sample_output = GPT2.generate(\n",
        "                             input_ids, \n",
        "                             do_sample = True, \n",
        "                             max_length = MAX_LEN, \n",
        "                             top_k = 0, \n",
        "                             temperature = 0.8\n",
        ")\n",
        "\n",
        "print(\"Output:\\n\" + 100 * '-')\n",
        "print(tokenizer.decode(sample_output[0], skip_special_tokens = True))"
      ],
      "execution_count": 9,
      "outputs": [
        {
          "output_type": "stream",
          "text": [
            "Output:\n",
            "----------------------------------------------------------------------------------------------------\n",
            "They both fell in love. He gave her a hand-made book, while she brought him the book of poetry. He is the kind of man who reads the books of the poets, doesn't he? You know, a lot of the time it's for young girls. And i'm telling you, i don't have a right to give\n"
          ],
          "name": "stdout"
        }
      ]
    },
    {
      "cell_type": "markdown",
      "metadata": {
        "id": "qLopLMCYsxzI"
      },
      "source": [
        "Top-K Sampling\n",
        "In Top-K sampling, the top k most likely next words are selected and the entire probability mass is shifted to these k words. So instead of increasing the chances of high probability words occuring and decreasing the chances of low probabillity words, we just remove low probability words all together\n",
        "\n",
        "We just need to set top_k to however many of the top words we want to consider for our conditional probability distribution:"
      ]
    },
    {
      "cell_type": "code",
      "metadata": {
        "colab": {
          "base_uri": "https://localhost:8080/"
        },
        "id": "lqNbu41wopwK",
        "outputId": "2be447c8-a7bf-411c-ba1e-81c9853bbb0f"
      },
      "source": [
        "#sample from only top_k most likely words\n",
        "sample_output = GPT2.generate(\n",
        "                             input_ids, \n",
        "                             do_sample = True, \n",
        "                             max_length = MAX_LEN, \n",
        "                             top_k = 50\n",
        ")\n",
        "\n",
        "print(\"Output:\\n\" + 100 * '-')\n",
        "print(tokenizer.decode(sample_output[0], skip_special_tokens = True), '...')"
      ],
      "execution_count": 10,
      "outputs": [
        {
          "output_type": "stream",
          "text": [
            "Output:\n",
            "----------------------------------------------------------------------------------------------------\n",
            "They both fell in love and started a family. The next year, the father of their child, his best friend, was killed in a car accident…\n",
            "\n",
            "And since then, when people ask me how that story got back into the public conversation, I don't feel like I can really tell… I feel like it's more about people trying ...\n"
          ],
          "name": "stdout"
        }
      ]
    },
    {
      "cell_type": "markdown",
      "metadata": {
        "id": "-guWPWwL9__c"
      },
      "source": [
        "### Top-P Sampling\r\n",
        "Top-P sampling (also known as nucleus sampling) is similar to Top-K, but instead of choosing the top k most likely wordsm we choose the smallest set of words whose total probability is larger than p, and then the entire probability mass is shifted to the words in this set\r\n",
        "\r\n",
        "The main difference here is that with Top-K sampling, the size of the set of words is static (obviously) whereas in Top-P sampling, the size of the set can change. To use this sampling method, we just set top_k = 0 and choose a value top_p:"
      ]
    },
    {
      "cell_type": "code",
      "metadata": {
        "colab": {
          "base_uri": "https://localhost:8080/"
        },
        "id": "9Us235B4opyT",
        "outputId": "f8866fd5-82fa-4ddb-8c46-d6ffc3570cfe"
      },
      "source": [
        "#sample only from 80% most likely words\n",
        "sample_output = GPT2.generate(\n",
        "                             input_ids, \n",
        "                             do_sample = True, \n",
        "                             max_length = MAX_LEN, \n",
        "                             top_p = 0.8, \n",
        "                             top_k = 0\n",
        ")\n",
        "\n",
        "print(\"Output:\\n\" + 100 * '-')\n",
        "print(tokenizer.decode(sample_output[0], skip_special_tokens = True), '...')"
      ],
      "execution_count": 11,
      "outputs": [
        {
          "output_type": "stream",
          "text": [
            "Output:\n",
            "----------------------------------------------------------------------------------------------------\n",
            "They both fell in love with it,\" Linta told the Associated Press. \"She said, 'I want to see if it's a relationship.' \"\n",
            "\n",
            "The couple met while attending Dartmouth College in New Hampshire, where Linta was a freshman. They eventually moved to Chicago, where the couple would stay together for the next three years ...\n"
          ],
          "name": "stdout"
        }
      ]
    },
    {
      "cell_type": "markdown",
      "metadata": {
        "id": "5mFZtJW3957Y"
      },
      "source": [
        "#### Combining both Top-K and Top-P sampling for best results"
      ]
    },
    {
      "cell_type": "code",
      "metadata": {
        "colab": {
          "base_uri": "https://localhost:8080/"
        },
        "id": "_Xm1YDn9op13",
        "outputId": "859a9a6d-112f-46b2-9b18-0b68113df7b9"
      },
      "source": [
        "#combine both sampling techniques\n",
        "sample_outputs = GPT2.generate(\n",
        "                              input_ids,\n",
        "                              do_sample = True, \n",
        "                              max_length = 2*MAX_LEN,                              #to test how long we can generate and it be coherent\n",
        "                              #temperature = .7,\n",
        "                              top_k = 50, \n",
        "                              top_p = 0.85, \n",
        "                              num_return_sequences = 5\n",
        ")\n",
        "\n",
        "print(\"Output:\\n\" + 100 * '-')\n",
        "for i, sample_output in enumerate(sample_outputs):\n",
        "    print(\"{}: {}...\".format(i, tokenizer.decode(sample_output, skip_special_tokens = True)))\n",
        "    print('')"
      ],
      "execution_count": 12,
      "outputs": [
        {
          "output_type": "stream",
          "text": [
            "Output:\n",
            "----------------------------------------------------------------------------------------------------\n",
            "0: They both fell in love with the game, so when we decided to do something about it we just took it to the next level.\n",
            "\n",
            "\"I'm so happy I got to play with her. I'm so excited to play with her. I feel like she's an athlete and a natural performer. She's the one who's going to be there on the field and on the screen with me.\"\n",
            "\n",
            "Hood will play on Saturday when the Vikings host the Chicago Bears at U.S. Bank Stadium in Minneapolis. She has been preparing for the occasion ever since the Vikings placed her on waivers this week.\n",
            "\n",
            "\"I've been practicing a little bit since I was released on...\n",
            "\n",
            "1: They both fell in love, and they married,\" she said. \"It was a happy marriage, and they had three children together.\"\n",
            "\n",
            "And then there was the boy, the one who was the first one to learn the truth about his mother's death.\n",
            "\n",
            "\"I don't know why, but I found out about my mother's death after I had been married,\" he said. \"I was still young. I did not know. It was the most painful thing, to learn that you have been separated from your mother.\"\n",
            "\n",
            "He continued: \"I just wanted to ask why it happened to me and not to my other sisters. I felt as if I should have some...\n",
            "\n",
            "2: They both fell in love and they have two children together, but they both ended up divorcing, and when I met her I didn't know what to do with her. But when she came back to me, she was very, very attractive and a very sweet person.\"\n",
            "\n",
            "He continues: \"She asked me to help her with something and I said I would. She was a model who did a TV show, and I wanted to help her in a professional capacity. She was very talented, very good at what she did. So I said, 'Well, I'll give you a chance.' She had already done a couple of TV shows before and I did not know she would be...\n",
            "\n",
            "3: They both fell in love with each other and they started their own family. Then their son became a young man, and then they had another son. So when they were old enough to take care of their own families, they decided to marry.\"\n",
            "\n",
            "Sitting in the back seat of his white Chevy Malibu with his wife and two children, he laughed. \"Well, I don't know. There's no rule about how old you have to get married. My kids are like 13 and 10, and we're both young people, so I guess it's pretty much what you've got to do.\"\n",
            "\n",
            "\"Well, what if you're younger than 13?\" I asked.\n",
            "...\n",
            "\n",
            "4: They both fell in love with each other. It's just that their love was more intense than theirs. He felt her pulse, the pulse of his emotions and how it flowed through her, like an electric current.\n",
            "\n",
            "Her hair is a mix of red and yellow, the result of her red and yellow eyes. They were the color of blood. She always had a scar across her eye. And her skin is as white as snow, a white that matched her eyes.\n",
            "\n",
            "He felt the presence of a female figure. It was a girl with a long, pale ponytail. She wore black. Her clothes were tight, revealing the lines of her body. She didn't seem to...\n",
            "\n"
          ],
          "name": "stdout"
        }
      ]
    },
    {
      "cell_type": "markdown",
      "metadata": {
        "id": "XFObFY2mAvjQ"
      },
      "source": [
        "### Can we use GPT-2 to do our homework?\r\n",
        "Lets try"
      ]
    },
    {
      "cell_type": "code",
      "metadata": {
        "id": "6nGW16jHEKJv"
      },
      "source": [
        "#max limit of text generated by our GPT-2 model.\r\n",
        "MAX_LEN = 300"
      ],
      "execution_count": 18,
      "outputs": []
    },
    {
      "cell_type": "code",
      "metadata": {
        "id": "oXRbGnfyMQEr",
        "colab": {
          "base_uri": "https://localhost:8080/"
        },
        "outputId": "5f621b47-3fab-4a25-9d4d-1188f8944a13"
      },
      "source": [
        "prompt = \"The benefits of drinking 8 glasses of water are\"\r\n",
        "\r\n",
        "input_ids = tokenizer.encode(prompt, return_tensors='tf')\r\n",
        "sample_outputs = GPT2.generate(\r\n",
        "                              input_ids,\r\n",
        "                              do_sample = True, \r\n",
        "                              max_length = MAX_LEN,                  \r\n",
        "#to test how long we can generate and it be coherent temperature = .8,\r\n",
        "                              top_k = 50, \r\n",
        "                              top_p = 0.85,\r\n",
        "                              num_return_sequences = 5\r\n",
        ")\r\n",
        "\r\n",
        "print(\"Output:\\n\" + 100 * '-')\r\n",
        "for i, sample_output in enumerate(sample_outputs):\r\n",
        "    print(\"{}: {}...\".format(i, tokenizer.decode(sample_output, skip_special_tokens = True)))\r\n",
        "    print('')"
      ],
      "execution_count": 19,
      "outputs": [
        {
          "output_type": "stream",
          "text": [
            "Output:\n",
            "----------------------------------------------------------------------------------------------------\n",
            "0: The benefits of drinking 8 glasses of water are numerous and far-reaching. For starters, water is much better for you than the various other electrolytes commonly found in many other drinks. This is because water is alkaline. Water contains about 20-25% water and 10% minerals.\n",
            "\n",
            "While water may seem like a simple solution to many of our most common problems, the truth is that water is also an excellent food. One teaspoon of water can provide as much as 60 calories, which is much more than most people need.\n",
            "\n",
            "As you consume more water, your body will use more of it. In a few weeks, your body will require a higher level of water than it normally does, so it will need to get a greater supply of it from other sources. As a result, your body will begin to produce more water, leading to an increase in body temperature, fluid retention, increased heart rate, increased heart rate variability (HBR) and more. Your kidneys also convert a larger amount of water into urea, which is the major component of urine. In a healthy adult, one gallon (2.2 liters) of water will hold about 60-100 milliliters (1/2-1 pint) of urine. (1-2 liters of water contains 4.4-6.7 ounces of liquid.)\n",
            "\n",
            "When you drink water, your body can use as much as 15 grams (about 2 teaspoons) of sodium per day....\n",
            "\n",
            "1: The benefits of drinking 8 glasses of water are numerous. In fact, drinking 8 glasses of water every day can help protect you from the effects of dehydration.\n",
            "\n",
            "The water from your shower is a prime source of hydration for your body, and that water is also a great source of electrolytes.\n",
            "\n",
            "The Water with 8 Screens\n",
            "\n",
            "If you've been on the lookout for a filter, then you're going to find this one on our shelf!...\n",
            "\n",
            "2: The benefits of drinking 8 glasses of water are many.\n",
            "\n",
            "In the short-term, it reduces the risk of dehydration by about 50%.\n",
            "\n",
            "However, it's also thought to have an adverse effect on your liver and kidneys.\n",
            "\n",
            "You should always drink enough water to meet your needs.\n",
            "\n",
            "Why you should stop drinking water\n",
            "\n",
            "In a study of 13,500 people in France, drinking 8 glasses of water per day was linked with a 27% decrease in the risk of dying of cancer.\n",
            "\n",
            "However, drinking 8 glasses per day has been shown to not prevent osteoporosis in women.\n",
            "\n",
            "If you've been drinking more than 8 glasses of water per day for many years, the risk of developing cancer is much greater.\n",
            "\n",
            "You may also have higher levels of calcium and phosphorus in your blood, and this can make it harder for the kidneys to filter out excess water.\n",
            "\n",
            "It's also been reported that people who drink a lot of water have higher levels of blood pressure, and this can increase the risk of stroke.\n",
            "\n",
            "If you're considering getting your first glass of water, it's recommended that you drink at least one glass every day, but it's better if you drink more.\n",
            "\n",
            "You should also try to drink more water, especially in hot weather, to help flush your kidneys.\n",
            "\n",
            "When should I stop drinking water?\n",
            "\n",
            "There's no specific time when you should stop drinking water.\n",
            "\n",
            "This varies...\n",
            "\n",
            "3: The benefits of drinking 8 glasses of water are twofold. They make your stomach less full and helps you sleep. The water is also used to make a tonic or tonic and tincture.\n",
            "\n",
            "How much water does it take to drink?\n",
            "\n",
            "The exact amount of water is not important. However, if you have had your daily recommended intake for 6-8 hours you should have enough water to drink at least that much.\n",
            "\n",
            "How much is too much water?\n",
            "\n",
            "Too much water will make you thirsty. It will make you feel dehydrated. The dehydration can make you dizzy or nauseous. Drinking too much water can lead to kidney stones.\n",
            "\n",
            "It is very important to drink enough water in a day. If you have to drink only water, you will not get enough calories and nutrients. If you want to increase the amount of calories you can get from the food you eat, you should increase your water intake.\n",
            "\n",
            "Does drinking more water make me sick?\n",
            "\n",
            "No.\n",
            "\n",
            "Why do people get ill from too much water?\n",
            "\n",
            "The water that is in your body is actually the fluid that is in your blood. The amount of water in your body can be changed through eating or drinking water.\n",
            "\n",
            "Too much water may make your stomach hurt. If you have had a stomach upset, this is not the reason for your sickness. If your stomach upset happens frequently, you may get sick more frequently as well.\n",
            "...\n",
            "\n",
            "4: The benefits of drinking 8 glasses of water are the same as drinking an 8-ounce glass of soda. This means that an average adult can get all their water intake from a glass of water. However, if you're a competitive athlete or want to keep your energy levels up, drinking 8 glasses of water is a good way to do so.\n",
            "\n",
            "Drinking water may also help to reduce the risk of heart disease.\n",
            "\n",
            "So why does drinking water help so many people?\n",
            "\n",
            "Water is a very good electrolyte. When you drink water, you're taking in all of the water in the food you eat and drink, without the water in your sweat.\n",
            "\n",
            "That's why you don't have to worry about what's in your water when you're not drinking it, as it's almost identical to the amount in your sweat.\n",
            "\n",
            "Water helps your muscles to retain oxygen, which is important for your heart to work efficiently.\n",
            "\n",
            "When you drink water, your body uses more energy to make the same amount of urine. This makes you less likely to overheat and to get sick.\n",
            "\n",
            "Drinking water helps you lose weight. It also keeps your body from wasting away.\n",
            "\n",
            "There's a lot of misinformation out there about drinking water. But most of the claims are made by those who don't really know what they're talking about. So if you want to stay healthy, take the time to understand what the real benefits of water really are....\n",
            "\n"
          ],
          "name": "stdout"
        }
      ]
    },
    {
      "cell_type": "markdown",
      "metadata": {
        "id": "XuJ4Lgx8E7VF"
      },
      "source": [
        "### We really got some cool and suprising results with this GPT2 model. You can play with this notebook by tuning parameters and generate new text."
      ]
    },
    {
      "cell_type": "code",
      "metadata": {
        "id": "lYe8cg6aMQGJ"
      },
      "source": [
        ""
      ],
      "execution_count": 13,
      "outputs": []
    },
    {
      "cell_type": "code",
      "metadata": {
        "id": "spXHCfW9MQHo"
      },
      "source": [
        ""
      ],
      "execution_count": 13,
      "outputs": []
    }
  ]
}